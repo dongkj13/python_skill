{
 "cells": [
  {
   "cell_type": "markdown",
   "metadata": {},
   "source": [
    "# 查找列表中频率最高的值"
   ]
  },
  {
   "cell_type": "code",
   "execution_count": 1,
   "metadata": {},
   "outputs": [
    {
     "name": "stdout",
     "output_type": "stream",
     "text": [
      "2\n"
     ]
    }
   ],
   "source": [
    "a = [1, 2, 3, 1, 2, 3, 2, 2, 4, 5, 1]\n",
    "print(max(set(a), key = a.count))"
   ]
  },
  {
   "cell_type": "code",
   "execution_count": 2,
   "metadata": {},
   "outputs": [
    {
     "name": "stdout",
     "output_type": "stream",
     "text": [
      "[(2, 4)]\n"
     ]
    }
   ],
   "source": [
    "from collections import Counter\n",
    "cnt = Counter(a)\n",
    "print(cnt.most_common(1))"
   ]
  },
  {
   "cell_type": "code",
   "execution_count": 3,
   "metadata": {
    "scrolled": true
   },
   "outputs": [
    {
     "name": "stdout",
     "output_type": "stream",
     "text": [
      "1 3\n",
      "2 4\n",
      "3 2\n",
      "4 1\n",
      "5 1\n"
     ]
    }
   ],
   "source": [
    "for (k, c) in cnt.items():\n",
    "    print(k, c)"
   ]
  },
  {
   "cell_type": "markdown",
   "metadata": {},
   "source": [
    "# 建立m*n维的list数组"
   ]
  },
  {
   "cell_type": "code",
   "execution_count": 4,
   "metadata": {},
   "outputs": [
    {
     "data": {
      "text/plain": [
       "[[0, 0, 0], [0, 0, 0]]"
      ]
     },
     "execution_count": 4,
     "metadata": {},
     "output_type": "execute_result"
    }
   ],
   "source": [
    "m, n = 2, 3\n",
    "[[0] * n for _ in range(m)]"
   ]
  },
  {
   "cell_type": "markdown",
   "metadata": {},
   "source": [
    "# n开m次根号取整"
   ]
  },
  {
   "cell_type": "code",
   "execution_count": 5,
   "metadata": {},
   "outputs": [
    {
     "name": "stdout",
     "output_type": "stream",
     "text": [
      "3\n"
     ]
    }
   ],
   "source": [
    "n, m = 81, 4\n",
    "print(int(n**m**-1))"
   ]
  },
  {
   "cell_type": "markdown",
   "metadata": {},
   "source": [
    "# 执行hql脚本"
   ]
  },
  {
   "cell_type": "code",
   "execution_count": 6,
   "metadata": {
    "scrolled": true
   },
   "outputs": [
    {
     "name": "stdout",
     "output_type": "stream",
     "text": [
      "\n",
      "INSERT OVERWRITE DIRECTORY 'hdfs://data/test/'\n",
      "row format delimited\n",
      "fields terminated by '\\t'\n",
      "SELECT\n",
      "    id\n",
      "FROM\n",
      "    aweme_i18n_dump.ies_item_dict\n",
      "WHERE\n",
      "    date = '20180808'\n",
      "\n"
     ]
    }
   ],
   "source": [
    "path = 'hdfs://data/test/'\n",
    "date = '20180808'\n",
    "sql = \"\"\"\n",
    "INSERT OVERWRITE DIRECTORY '{hdfs_path}'\n",
    "row format delimited\n",
    "fields terminated by '\\\\t'\n",
    "SELECT\n",
    "    id\n",
    "FROM\n",
    "    aweme_i18n_dump.ies_item_dict\n",
    "WHERE\n",
    "    date = '{date}'\n",
    "\"\"\"\n",
    "\n",
    "sql_para = {'hdfs_path' : path,\n",
    "       'date' : date,\n",
    "      }\n",
    "sql = sql.format(**sql_para)\n",
    "print(sql)"
   ]
  },
  {
   "cell_type": "markdown",
   "metadata": {},
   "source": [
    "# list数据类型转换 "
   ]
  },
  {
   "cell_type": "code",
   "execution_count": 7,
   "metadata": {},
   "outputs": [
    {
     "name": "stdout",
     "output_type": "stream",
     "text": [
      "a: [1, 2, 3]\n",
      "b: ['1', '2', '3']\n",
      "c: [1.0, 2.0, 3.0]\n"
     ]
    }
   ],
   "source": [
    "a = [1, 2, 3]\n",
    "b = list(map(str, a))\n",
    "c = list(map(float, b))\n",
    "print('a: %s' % a)\n",
    "print('b: %s' % b)\n",
    "print('c: %s' % c)"
   ]
  },
  {
   "cell_type": "markdown",
   "metadata": {},
   "source": [
    "# 根据条件筛选数据"
   ]
  },
  {
   "cell_type": "markdown",
   "metadata": {},
   "source": [
    "## 列表"
   ]
  },
  {
   "cell_type": "code",
   "execution_count": 8,
   "metadata": {},
   "outputs": [
    {
     "name": "stdout",
     "output_type": "stream",
     "text": [
      "[0, 5, -4, -5, -4, 0, -5, -6, 3, 4]\n",
      "[0, 5, 0, 3, 4]\n",
      "[0, 5, 0, 3, 4]\n"
     ]
    }
   ],
   "source": [
    "from random import randint\n",
    "a = [randint(-10, 10) for _ in range(10)]\n",
    "print(a)\n",
    "# filter 函数\n",
    "print(list(filter(lambda x: x >= 0, a)))\n",
    "# 列表解析\n",
    "print([x for x in a if x >= 0])"
   ]
  },
  {
   "cell_type": "code",
   "execution_count": 9,
   "metadata": {},
   "outputs": [
    {
     "name": "stdout",
     "output_type": "stream",
     "text": [
      "694 ns ± 16.4 ns per loop (mean ± std. dev. of 7 runs, 1000000 loops each)\n"
     ]
    }
   ],
   "source": [
    "timeit [x for x in a if x >= 0]"
   ]
  },
  {
   "cell_type": "code",
   "execution_count": 10,
   "metadata": {},
   "outputs": [
    {
     "name": "stdout",
     "output_type": "stream",
     "text": [
      "1.95 µs ± 65.3 ns per loop (mean ± std. dev. of 7 runs, 1000000 loops each)\n"
     ]
    }
   ],
   "source": [
    "timeit list(filter(lambda x: x >= 0, a))"
   ]
  },
  {
   "cell_type": "markdown",
   "metadata": {},
   "source": [
    "## 字典"
   ]
  },
  {
   "cell_type": "code",
   "execution_count": 11,
   "metadata": {},
   "outputs": [
    {
     "name": "stdout",
     "output_type": "stream",
     "text": [
      "{0: 70, 1: 63, 2: 80, 3: 98, 4: 85, 5: 90, 6: 62, 7: 97, 8: 92, 9: 82, 10: 76, 11: 95, 12: 72, 13: 75, 14: 85, 15: 75, 16: 84, 17: 76, 18: 84, 19: 86}\n",
      "{3: 98, 7: 97, 8: 92, 11: 95}\n"
     ]
    }
   ],
   "source": [
    "from random import randint\n",
    "d = {i: randint(60, 100) for i in range(20)}\n",
    "print(d)\n",
    "# 字典解析\n",
    "print({k: v for k, v in d.items() if v > 90})"
   ]
  },
  {
   "cell_type": "markdown",
   "metadata": {},
   "source": [
    "## 集合"
   ]
  },
  {
   "cell_type": "code",
   "execution_count": 12,
   "metadata": {},
   "outputs": [
    {
     "name": "stdout",
     "output_type": "stream",
     "text": [
      "{2, 5, 6, 8, 10, -7, -6, -4}\n",
      "{2, 5, 6, 8, 10}\n"
     ]
    }
   ],
   "source": [
    "from random import randint\n",
    "s = {randint(-10, 10) for _ in range(10)}\n",
    "print(s)\n",
    "print({x for x in s if x >= 0})"
   ]
  },
  {
   "cell_type": "code",
   "execution_count": 13,
   "metadata": {
    "collapsed": true
   },
   "outputs": [],
   "source": [
    "from collections import Counter\n",
    "ct = Counter('abracadabra')"
   ]
  },
  {
   "cell_type": "markdown",
   "metadata": {},
   "source": [
    "# 多个字典的公共键"
   ]
  },
  {
   "cell_type": "code",
   "execution_count": 14,
   "metadata": {},
   "outputs": [
    {
     "name": "stdout",
     "output_type": "stream",
     "text": [
      "d1: {'b': 3, 'x': 2, 'd': 3, 'a': 2, 'z': 3, 'c': 4, 'f': 4}\n",
      "d2: {'f': 2, 'b': 1, 'd': 4, 'x': 2, 'z': 3, 'g': 4, 'c': 1}\n",
      "d3: {'g': 2, 'd': 4, 'y': 3, 'a': 3, 'x': 2, 'f': 4, 'e': 4}\n"
     ]
    }
   ],
   "source": [
    "from random import randint\n",
    "from random import sample\n",
    "d1 = {k:randint(1,4) for k in sample('abcdefgxyz',7)} #生成一个key 是在abcdefgxyz的三个,value是1到4的随机数\n",
    "d2 = {k:randint(1,4) for k in sample('abcdefgxyz',7)} #生成一个key 是在abcdefgxyz的三个,value是1到4的随机数\n",
    "d3 = {k:randint(1,4) for k in sample('abcdefgxyz',7)} #生成一个key 是在abcdefgxyz的三个到六个\n",
    "print('d1: %s' % d1)\n",
    "print('d2: %s' % d2)\n",
    "print('d3: %s' % d3)"
   ]
  },
  {
   "cell_type": "code",
   "execution_count": 15,
   "metadata": {},
   "outputs": [
    {
     "data": {
      "text/plain": [
       "{'d', 'f', 'x'}"
      ]
     },
     "execution_count": 15,
     "metadata": {},
     "output_type": "execute_result"
    }
   ],
   "source": [
    "from functools import reduce\n",
    "reduce(lambda a, b: a & b, map(dict.keys, [d1, d2, d3]))"
   ]
  },
  {
   "cell_type": "markdown",
   "metadata": {},
   "source": [
    "# 字符串对齐"
   ]
  },
  {
   "cell_type": "code",
   "execution_count": 16,
   "metadata": {},
   "outputs": [
    {
     "name": "stdout",
     "output_type": "stream",
     "text": [
      "Beijing********\n",
      "Xian***********\n",
      "Shanghai*******\n",
      "Jinan**********\n",
      "Haerbing*******\n",
      "\n",
      "********Beijing\n",
      "***********Xian\n",
      "*******Shanghai\n",
      "**********Jinan\n",
      "*******Haerbing\n",
      "\n",
      "****Beijing****\n",
      "******Xian*****\n",
      "****Shanghai***\n",
      "*****Jinan*****\n",
      "****Haerbing***\n"
     ]
    }
   ],
   "source": [
    "s = ['Beijing', 'Xian', 'Shanghai', 'Jinan', 'Haerbing']\n",
    "for x in s:\n",
    "    print(x.ljust(15, '*'))\n",
    "print()\n",
    "for x in s:\n",
    "    print(x.rjust(15, '*'))\n",
    "print()\n",
    "for x in s:\n",
    "    print(x.center(15, '*'))\n",
    "    \n",
    "    \n",
    "# format(s, '<15') #左对齐\n",
    "# format(s, '>15') #右对齐\n",
    "# format(s, '^15') #居中"
   ]
  },
  {
   "cell_type": "code",
   "execution_count": null,
   "metadata": {
    "collapsed": true
   },
   "outputs": [],
   "source": []
  }
 ],
 "metadata": {
  "hide_input": false,
  "kernelspec": {
   "display_name": "Python 3",
   "language": "python",
   "name": "python3"
  },
  "language_info": {
   "codemirror_mode": {
    "name": "ipython",
    "version": 3
   },
   "file_extension": ".py",
   "mimetype": "text/x-python",
   "name": "python",
   "nbconvert_exporter": "python",
   "pygments_lexer": "ipython3",
   "version": "3.6.3"
  },
  "toc": {
   "nav_menu": {},
   "number_sections": true,
   "sideBar": true,
   "skip_h1_title": false,
   "title_cell": "Table of Contents",
   "title_sidebar": "Contents",
   "toc_cell": false,
   "toc_position": {},
   "toc_section_display": true,
   "toc_window_display": true
  }
 },
 "nbformat": 4,
 "nbformat_minor": 2
}
