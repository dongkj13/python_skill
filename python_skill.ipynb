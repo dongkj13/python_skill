{
 "cells": [
  {
   "cell_type": "markdown",
   "metadata": {},
   "source": [
    "# 查找列表中频率最高的值"
   ]
  },
  {
   "cell_type": "code",
   "execution_count": 1,
   "metadata": {},
   "outputs": [
    {
     "name": "stdout",
     "output_type": "stream",
     "text": [
      "2\n"
     ]
    }
   ],
   "source": [
    "a = [1, 2, 3, 1, 2, 3, 2, 2, 4, 5, 1]\n",
    "print(max(set(a), key = a.count))"
   ]
  },
  {
   "cell_type": "code",
   "execution_count": 2,
   "metadata": {},
   "outputs": [
    {
     "name": "stdout",
     "output_type": "stream",
     "text": [
      "[(2, 4)]\n"
     ]
    }
   ],
   "source": [
    "from collections import Counter\n",
    "cnt = Counter(a)\n",
    "print(cnt.most_common(1))"
   ]
  },
  {
   "cell_type": "code",
   "execution_count": 3,
   "metadata": {
    "scrolled": true
   },
   "outputs": [
    {
     "name": "stdout",
     "output_type": "stream",
     "text": [
      "1 3\n",
      "2 4\n",
      "3 2\n",
      "4 1\n",
      "5 1\n"
     ]
    }
   ],
   "source": [
    "for (k, c) in cnt.iteritems():\n",
    "    print k, c"
   ]
  },
  {
   "cell_type": "markdown",
   "metadata": {},
   "source": [
    "# 建立m*n维的list数组"
   ]
  },
  {
   "cell_type": "code",
   "execution_count": 4,
   "metadata": {},
   "outputs": [
    {
     "data": {
      "text/plain": [
       "[[0, 0, 0], [0, 0, 0]]"
      ]
     },
     "execution_count": 4,
     "metadata": {},
     "output_type": "execute_result"
    }
   ],
   "source": [
    "m, n = 2, 3\n",
    "[[0] * n for _ in range(m)]"
   ]
  },
  {
   "cell_type": "markdown",
   "metadata": {},
   "source": [
    "# n开m次根号取整"
   ]
  },
  {
   "cell_type": "code",
   "execution_count": 5,
   "metadata": {},
   "outputs": [
    {
     "name": "stdout",
     "output_type": "stream",
     "text": [
      "3\n"
     ]
    }
   ],
   "source": [
    "n, m = 81, 4\n",
    "print int(n**m**-1)"
   ]
  },
  {
   "cell_type": "markdown",
   "metadata": {},
   "source": [
    "# 执行hql脚本"
   ]
  },
  {
   "cell_type": "code",
   "execution_count": 6,
   "metadata": {
    "scrolled": true
   },
   "outputs": [
    {
     "name": "stdout",
     "output_type": "stream",
     "text": [
      "\n",
      "INSERT OVERWRITE DIRECTORY 'hdfs://data/test/'\n",
      "row format delimited\n",
      "fields terminated by '\\t'\n",
      "SELECT\n",
      "    id\n",
      "FROM\n",
      "    aweme_i18n_dump.ies_item_dict\n",
      "WHERE\n",
      "    date = '20180808'\n",
      "\n"
     ]
    }
   ],
   "source": [
    "path = 'hdfs://data/test/'\n",
    "date = '20180808'\n",
    "sql = \"\"\"\n",
    "INSERT OVERWRITE DIRECTORY '{hdfs_path}'\n",
    "row format delimited\n",
    "fields terminated by '\\\\t'\n",
    "SELECT\n",
    "    id\n",
    "FROM\n",
    "    aweme_i18n_dump.ies_item_dict\n",
    "WHERE\n",
    "    date = '{date}'\n",
    "\"\"\"\n",
    "\n",
    "sql_para = {'hdfs_path' : path,\n",
    "       'date' : date,\n",
    "      }\n",
    "sql = sql.format(**sql_para)\n",
    "print sql"
   ]
  },
  {
   "cell_type": "markdown",
   "metadata": {},
   "source": [
    "# list数据类型转换 "
   ]
  },
  {
   "cell_type": "code",
   "execution_count": 7,
   "metadata": {},
   "outputs": [
    {
     "name": "stdout",
     "output_type": "stream",
     "text": [
      "a: [1, 2, 3]\n",
      "b: ['1', '2', '3']\n",
      "c: [1.0, 2.0, 3.0]\n"
     ]
    }
   ],
   "source": [
    "a = [1, 2, 3]\n",
    "b = map(str, a)\n",
    "c = map(float, b)\n",
    "print 'a: %s' % a\n",
    "print 'b: %s' % b\n",
    "print 'c: %s' % c"
   ]
  },
  {
   "cell_type": "code",
   "execution_count": null,
   "metadata": {},
   "outputs": [],
   "source": []
  }
 ],
 "metadata": {
  "kernelspec": {
   "display_name": "Python 2",
   "language": "python",
   "name": "python2"
  },
  "language_info": {
   "codemirror_mode": {
    "name": "ipython",
    "version": 2
   },
   "file_extension": ".py",
   "mimetype": "text/x-python",
   "name": "python",
   "nbconvert_exporter": "python",
   "pygments_lexer": "ipython2",
   "version": "2.7.10"
  }
 },
 "nbformat": 4,
 "nbformat_minor": 2
}
